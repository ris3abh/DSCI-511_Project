{
 "cells": [
  {
   "cell_type": "code",
   "execution_count": 1,
   "id": "6a5043c0",
   "metadata": {},
   "outputs": [],
   "source": [
    "#Importing required libraries\n",
    "import requests\n",
    "import csv\n",
    "import numpy as np\n",
    "import pandas as pd\n",
    "from datetime import date\n"
   ]
  },
  {
   "cell_type": "code",
   "execution_count": 2,
   "id": "a369a6f6",
   "metadata": {},
   "outputs": [],
   "source": [
    "# Collecting Crime Data\n",
    "\n",
    "\n",
    "crime_response = requests.get(\"https://phl.carto.com/api/v2/sql?filename=incidents_part1_part2&format=csv&q=SELECT%20*%20,%20ST_Y(the_geom)%20AS%20lat,%20ST_X(the_geom)%20AS%20lng%20FROM%20incidents_part1_part2%20WHERE%20dispatch_date_time%20%3E=%20%272022-01-01%27%20AND%20dispatch_date_time%20%3C%20%272023-01-01%27\")\n",
    "crime_text = crime_response.text.strip().split(\"\\n\")\n",
    "crime_reader = csv.reader(crime_text)\n",
    "crime_list=list(crime_reader)\n",
    "\n",
    "#REMOVING USELESS INFORMATION AND CLEANING ROWS\n",
    "\n",
    "\n",
    "newarr=[]\n",
    "for list_item in crime_list[1:]:\n",
    "    if list_item[14] == '' or list_item[15] == '' or list_item[16] =='' or list_item[17] == '':\n",
    "        continue\n",
    "    else:\n",
    "        newarr.append(list_item)\n",
    "headings = crime_list[:1][0]\n",
    "newarr.insert(0,headings)\n",
    "df = pd.DataFrame(newarr[1:], columns=headings)\n",
    "\n",
    "df.drop(['the_geom','cartodb_id','the_geom_webmercator','objectid','dc_dist','psa','dispatch_date_time','dc_key','ucr_general','point_x','point_y'], axis = 1, inplace = True)\n",
    "today = date.today()\n",
    "d1 = today.strftime(\"%d/%m/%Y\")\n",
    "fileName = str(d1) + \".csv\"\n",
    "df.to_csv(\"./Crime/11-24-22.csv\")"
   ]
  },
  {
   "cell_type": "code",
   "execution_count": null,
   "id": "72573a82",
   "metadata": {},
   "outputs": [],
   "source": []
  },
  {
   "cell_type": "code",
   "execution_count": null,
   "id": "380cb13e",
   "metadata": {},
   "outputs": [],
   "source": []
  },
  {
   "cell_type": "code",
   "execution_count": null,
   "id": "8cee8112",
   "metadata": {},
   "outputs": [],
   "source": []
  },
  {
   "cell_type": "code",
   "execution_count": 30,
   "id": "9df4fee7",
   "metadata": {},
   "outputs": [
    {
     "name": "stdout",
     "output_type": "stream",
     "text": [
      "time_epoch\n",
      "time\n",
      "temp_c\n",
      "temp_f\n",
      "is_day\n",
      "condition\n",
      "wind_mph\n",
      "wind_kph\n",
      "wind_degree\n",
      "wind_dir\n",
      "pressure_mb\n",
      "pressure_in\n",
      "precip_mm\n",
      "precip_in\n",
      "humidity\n",
      "cloud\n",
      "feelslike_c\n",
      "feelslike_f\n",
      "windchill_c\n",
      "windchill_f\n",
      "heatindex_c\n",
      "heatindex_f\n",
      "dewpoint_c\n",
      "dewpoint_f\n",
      "will_it_rain\n",
      "chance_of_rain\n",
      "will_it_snow\n",
      "chance_of_snow\n",
      "vis_km\n",
      "vis_miles\n",
      "gust_mph\n",
      "gust_kph\n"
     ]
    }
   ],
   "source": [
    "#Collecting Weather Data\n",
    "\n",
    "\n",
    "def get_weather(date):\n",
    "    weather_response = requests.get('http://api.weatherapi.com/v1/history.json?key=9a94e7b0775d4c1098b61116220911&q=Philadelphia&dt='+date)\n",
    "    weather_data = weather_response.json()\n",
    "    weather_data\n",
    "    x = []\n",
    "    for i in weather_data['forecast']['forecastday']:\n",
    "        holder = i['hour'][18]\n",
    "        for hour in holder:\n",
    "            print(hour)\n",
    "#             temp_f = holder['temp_f']\n",
    "#             condition = holder['condition']['text']\n",
    "#             wind_mph = holder['wind_mph']\n",
    "#             feels_like = holder['feelslike_f']\n",
    "#             humidity = holder['humidity']\n",
    "#             print(\"Temperaure in fahrenheit : \",temp_f,\"\\nWeather conditions : \",condition,\"\\nWind speed in miles per hour : \",wind_mph,\"\\nFeels like : \",feels_like,\"\\nHumidity : \",humidity)\n",
    "\n",
    "date = '2022-08-11'    \n",
    "get_weather(date) "
   ]
  },
  {
   "cell_type": "code",
   "execution_count": null,
   "id": "db21fe4d",
   "metadata": {},
   "outputs": [],
   "source": []
  }
 ],
 "metadata": {
  "kernelspec": {
   "display_name": "Python 3 (ipykernel)",
   "language": "python",
   "name": "python3"
  },
  "language_info": {
   "codemirror_mode": {
    "name": "ipython",
    "version": 3
   },
   "file_extension": ".py",
   "mimetype": "text/x-python",
   "name": "python",
   "nbconvert_exporter": "python",
   "pygments_lexer": "ipython3",
   "version": "3.9.12"
  }
 },
 "nbformat": 4,
 "nbformat_minor": 5
}
