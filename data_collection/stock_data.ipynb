{
 "cells": [
  {
   "cell_type": "code",
   "execution_count": 1,
   "metadata": {},
   "outputs": [],
   "source": [
    "import pandas as pd\n",
    "import numpy as np"
   ]
  },
  {
   "cell_type": "code",
   "execution_count": 2,
   "metadata": {},
   "outputs": [],
   "source": [
    "import requests\n",
    "import json\n",
    "import csv\n",
    "import time"
   ]
  },
  {
   "cell_type": "code",
   "execution_count": 5,
   "metadata": {},
   "outputs": [],
   "source": [
    "all_data = []\n",
    "for i in range(1,11):\n",
    "    url = \"https://www.alphavantage.co/query?function=TIME_SERIES_INTRADAY_EXTENDED&symbol=TSCO&interval=60min&slice=year1month{}&adjusted=false&apikey=51CJ0F7JX8VVOM94\".format(i)\n",
    "    with requests.Session() as s:\n",
    "        if i%4 == 0:\n",
    "            time.sleep(310)\n",
    "        download = s.get(url)\n",
    "        decoded_content = download.content.decode('utf-8')\n",
    "        cr = csv.reader(decoded_content.splitlines(), delimiter=',')\n",
    "        my_list = list(cr)\n",
    "        for row in my_list[1:]:\n",
    "            all_data.append(row)"
   ]
  },
  {
   "cell_type": "code",
   "execution_count": 6,
   "metadata": {},
   "outputs": [],
   "source": [
    "data = np.array(all_data)"
   ]
  },
  {
   "cell_type": "code",
   "execution_count": 7,
   "metadata": {},
   "outputs": [],
   "source": [
    "df = pd.DataFrame(data, columns = ['time', 'open', 'high',\n",
    "                                      'low', 'close', 'volume'])"
   ]
  },
  {
   "cell_type": "code",
   "execution_count": 8,
   "metadata": {},
   "outputs": [
    {
     "data": {
      "text/html": [
       "<div>\n",
       "<style scoped>\n",
       "    .dataframe tbody tr th:only-of-type {\n",
       "        vertical-align: middle;\n",
       "    }\n",
       "\n",
       "    .dataframe tbody tr th {\n",
       "        vertical-align: top;\n",
       "    }\n",
       "\n",
       "    .dataframe thead th {\n",
       "        text-align: right;\n",
       "    }\n",
       "</style>\n",
       "<table border=\"1\" class=\"dataframe\">\n",
       "  <thead>\n",
       "    <tr style=\"text-align: right;\">\n",
       "      <th></th>\n",
       "      <th>time</th>\n",
       "      <th>open</th>\n",
       "      <th>high</th>\n",
       "      <th>low</th>\n",
       "      <th>close</th>\n",
       "      <th>volume</th>\n",
       "    </tr>\n",
       "  </thead>\n",
       "  <tbody>\n",
       "    <tr>\n",
       "      <th>0</th>\n",
       "      <td>2022-11-21 17:00:00</td>\n",
       "      <td>220.44</td>\n",
       "      <td>220.44</td>\n",
       "      <td>220.44</td>\n",
       "      <td>220.44</td>\n",
       "      <td>22645</td>\n",
       "    </tr>\n",
       "    <tr>\n",
       "      <th>1</th>\n",
       "      <td>2022-11-21 16:00:00</td>\n",
       "      <td>220.06</td>\n",
       "      <td>221.505</td>\n",
       "      <td>220.055</td>\n",
       "      <td>220.44</td>\n",
       "      <td>265069</td>\n",
       "    </tr>\n",
       "    <tr>\n",
       "      <th>2</th>\n",
       "      <td>2022-11-21 15:00:00</td>\n",
       "      <td>219.21</td>\n",
       "      <td>220.23</td>\n",
       "      <td>219.0</td>\n",
       "      <td>220.06</td>\n",
       "      <td>85324</td>\n",
       "    </tr>\n",
       "    <tr>\n",
       "      <th>3</th>\n",
       "      <td>2022-11-21 14:00:00</td>\n",
       "      <td>219.56</td>\n",
       "      <td>220.11</td>\n",
       "      <td>219.07</td>\n",
       "      <td>219.225</td>\n",
       "      <td>76767</td>\n",
       "    </tr>\n",
       "    <tr>\n",
       "      <th>4</th>\n",
       "      <td>2022-11-21 13:00:00</td>\n",
       "      <td>219.045</td>\n",
       "      <td>220.0635</td>\n",
       "      <td>218.92</td>\n",
       "      <td>219.505</td>\n",
       "      <td>69198</td>\n",
       "    </tr>\n",
       "  </tbody>\n",
       "</table>\n",
       "</div>"
      ],
      "text/plain": [
       "                  time     open      high      low    close  volume\n",
       "0  2022-11-21 17:00:00   220.44    220.44   220.44   220.44   22645\n",
       "1  2022-11-21 16:00:00   220.06   221.505  220.055   220.44  265069\n",
       "2  2022-11-21 15:00:00   219.21    220.23    219.0   220.06   85324\n",
       "3  2022-11-21 14:00:00   219.56    220.11   219.07  219.225   76767\n",
       "4  2022-11-21 13:00:00  219.045  220.0635   218.92  219.505   69198"
      ]
     },
     "execution_count": 8,
     "metadata": {},
     "output_type": "execute_result"
    }
   ],
   "source": [
    "df.head()"
   ]
  },
  {
   "cell_type": "code",
   "execution_count": 11,
   "metadata": {},
   "outputs": [],
   "source": [
    "df.to_csv(r'data/stock_data.csv', index=False)"
   ]
  }
 ],
 "metadata": {
  "kernelspec": {
   "display_name": "Python 3.10.7 64-bit",
   "language": "python",
   "name": "python3"
  },
  "language_info": {
   "codemirror_mode": {
    "name": "ipython",
    "version": 3
   },
   "file_extension": ".py",
   "mimetype": "text/x-python",
   "name": "python",
   "nbconvert_exporter": "python",
   "pygments_lexer": "ipython3",
   "version": "3.10.7"
  },
  "orig_nbformat": 4,
  "vscode": {
   "interpreter": {
    "hash": "b0fa6594d8f4cbf19f97940f81e996739fb7646882a419484c72d19e05852a7e"
   }
  }
 },
 "nbformat": 4,
 "nbformat_minor": 2
}
