{
 "cells": [
  {
   "cell_type": "code",
   "execution_count": 1,
   "metadata": {},
   "outputs": [
    {
     "name": "stdout",
     "output_type": "stream",
     "text": [
      "Collecting python-dotenv\n",
      "  Downloading python_dotenv-0.21.0-py3-none-any.whl (18 kB)\n",
      "Installing collected packages: python-dotenv\n",
      "Successfully installed python-dotenv-0.21.0\n"
     ]
    }
   ],
   "source": [
    "!pip3 install python-dotenv"
   ]
  },
  {
   "cell_type": "code",
   "execution_count": 3,
   "metadata": {},
   "outputs": [],
   "source": [
    "API_KEY = \"Y0pnmdQD0DSyrByEKLaqcvT9q\"\n",
    "API_KEY_SECRET = \"R0mHqd23VVVpR7wLMDANpVC2sN82AmCWgr9EMOpxmt8wivu8PQ\"\n",
    "\n",
    "ACCESS_TOKEN = \"1594441674767314944-sE6MQnn2CGaGsfhEYZm11NdjX28to5\"\n",
    "ACCESS_TOKEN_SECRET = \"jKIWtbKfjeKya6ZEJqPnNMHY0LKK4QNSUhLQVyycC3jkr\"\n",
    "\n",
    "BEARER_TOKEN = \"AAAAAAAAAAAAAAAAAAAAANQyjgEAAAAAhtUPBYUOxrs6v0uD4XYcy%2Bs%2BO1I%3DAT8d6DhX6ukMucgVTdGBq0EfGRKbPmtP7DYIFZ9Zac5ukMCu1p\""
   ]
  },
  {
   "cell_type": "code",
   "execution_count": 50,
   "metadata": {},
   "outputs": [],
   "source": [
    "## extract all tweets from @PhillyPolice between the dates january 1 2022 and todays date and store them in a csv file\n",
    "import csv\n",
    "import tweepy\n",
    "from dotenv import load_dotenv\n",
    "\n",
    "consumer_key = API_KEY\n",
    "consumer_secret = API_KEY_SECRET\n",
    "access_token = ACCESS_TOKEN\n",
    "access_token_secret = ACCESS_TOKEN_SECRET\n",
    "\n",
    "auth = tweepy.OAuth1UserHandler(\n",
    "    consumer_key,\n",
    "    consumer_secret,\n",
    "    access_token,\n",
    "    access_token_secret\n",
    ")\n",
    "\n",
    "api = tweepy.API(auth)\n",
    "\n",
    "user = \"PhillyPolice\"\n",
    "limit = 600\n",
    "\n",
    "tweets = tweepy.Cursor(api.user_timeline, screen_name = user, tweet_mode = \"extended\").items(limit)\n",
    "\n",
    "#tweets = api.user_timeline(screen_name= user, count=limit, tweet_mode=\"extended\")\n",
    "\n",
    "## prinnt the tweets and the time tey were created\n",
    "##for tweet in tweets:\n",
    "    ##print(tweet.full_text)\n",
    "    ##print(tweet.created_at)\n",
    "    ##print(\"=====\")\n",
    "\n",
    "## creating a csv file to store the tweets text, time created, and the user and the number of likes and retweets\n",
    "\n",
    "with open(\"tweets.csv\", \"w\") as file:\n",
    "    writer = csv.writer(file)\n",
    "    writer.writerow([\"text\", \"created_at\", \"user\", \"likes\", \"retweets\"])\n",
    "\n",
    "    tweets = tweepy.Cursor(api.user_timeline, screen_name = user, tweet_mode = \"extended\").items(limit)\n",
    "\n",
    "    for tweet in tweets:\n",
    "        writer.writerow([tweet.full_text, tweet.created_at, tweet.user.screen_name, tweet.favorite_count, tweet.retweet_count])\n",
    "\n",
    "## read the csv file and print the tweets\n",
    "\n",
    "import pandas as pd\n",
    "\n",
    "df = pd.read_csv(\"tweets.csv\")\n",
    "\n"
   ]
  },
  {
   "cell_type": "code",
   "execution_count": 52,
   "metadata": {},
   "outputs": [
    {
     "data": {
      "text/html": [
       "<div>\n",
       "<style scoped>\n",
       "    .dataframe tbody tr th:only-of-type {\n",
       "        vertical-align: middle;\n",
       "    }\n",
       "\n",
       "    .dataframe tbody tr th {\n",
       "        vertical-align: top;\n",
       "    }\n",
       "\n",
       "    .dataframe thead th {\n",
       "        text-align: right;\n",
       "    }\n",
       "</style>\n",
       "<table border=\"1\" class=\"dataframe\">\n",
       "  <thead>\n",
       "    <tr style=\"text-align: right;\">\n",
       "      <th></th>\n",
       "      <th>text</th>\n",
       "      <th>created_at</th>\n",
       "      <th>user</th>\n",
       "      <th>likes</th>\n",
       "      <th>retweets</th>\n",
       "    </tr>\n",
       "  </thead>\n",
       "  <tbody>\n",
       "    <tr>\n",
       "      <th>0</th>\n",
       "      <td>Wanted: Suspects for Robbery in the 22nd Distr...</td>\n",
       "      <td>2022-11-23 18:43:20+00:00</td>\n",
       "      <td>PhillyPolice</td>\n",
       "      <td>1</td>\n",
       "      <td>6</td>\n",
       "    </tr>\n",
       "    <tr>\n",
       "      <th>1</th>\n",
       "      <td>Wanted: Suspect for Residential Burglary in th...</td>\n",
       "      <td>2022-11-23 16:33:26+00:00</td>\n",
       "      <td>PhillyPolice</td>\n",
       "      <td>2</td>\n",
       "      <td>2</td>\n",
       "    </tr>\n",
       "    <tr>\n",
       "      <th>2</th>\n",
       "      <td>RT @PPDFrankVanore: @phillypolice has received...</td>\n",
       "      <td>2022-11-23 12:28:33+00:00</td>\n",
       "      <td>PhillyPolice</td>\n",
       "      <td>0</td>\n",
       "      <td>17</td>\n",
       "    </tr>\n",
       "    <tr>\n",
       "      <th>3</th>\n",
       "      <td>Wanted: Suspects for Multiple Commercial Burgl...</td>\n",
       "      <td>2022-11-23 12:03:19+00:00</td>\n",
       "      <td>PhillyPolice</td>\n",
       "      <td>7</td>\n",
       "      <td>3</td>\n",
       "    </tr>\n",
       "    <tr>\n",
       "      <th>4</th>\n",
       "      <td>Wanted: Suspects for Commercial Robbery in the...</td>\n",
       "      <td>2022-11-22 18:02:24+00:00</td>\n",
       "      <td>PhillyPolice</td>\n",
       "      <td>10</td>\n",
       "      <td>7</td>\n",
       "    </tr>\n",
       "  </tbody>\n",
       "</table>\n",
       "</div>"
      ],
      "text/plain": [
       "                                                text  \\\n",
       "0  Wanted: Suspects for Robbery in the 22nd Distr...   \n",
       "1  Wanted: Suspect for Residential Burglary in th...   \n",
       "2  RT @PPDFrankVanore: @phillypolice has received...   \n",
       "3  Wanted: Suspects for Multiple Commercial Burgl...   \n",
       "4  Wanted: Suspects for Commercial Robbery in the...   \n",
       "\n",
       "                  created_at          user  likes  retweets  \n",
       "0  2022-11-23 18:43:20+00:00  PhillyPolice      1         6  \n",
       "1  2022-11-23 16:33:26+00:00  PhillyPolice      2         2  \n",
       "2  2022-11-23 12:28:33+00:00  PhillyPolice      0        17  \n",
       "3  2022-11-23 12:03:19+00:00  PhillyPolice      7         3  \n",
       "4  2022-11-22 18:02:24+00:00  PhillyPolice     10         7  "
      ]
     },
     "execution_count": 52,
     "metadata": {},
     "output_type": "execute_result"
    }
   ],
   "source": [
    "df.head()"
   ]
  },
  {
   "cell_type": "code",
   "execution_count": 58,
   "metadata": {},
   "outputs": [
    {
     "data": {
      "text/html": [
       "<div>\n",
       "<style scoped>\n",
       "    .dataframe tbody tr th:only-of-type {\n",
       "        vertical-align: middle;\n",
       "    }\n",
       "\n",
       "    .dataframe tbody tr th {\n",
       "        vertical-align: top;\n",
       "    }\n",
       "\n",
       "    .dataframe thead th {\n",
       "        text-align: right;\n",
       "    }\n",
       "</style>\n",
       "<table border=\"1\" class=\"dataframe\">\n",
       "  <thead>\n",
       "    <tr style=\"text-align: right;\">\n",
       "      <th></th>\n",
       "      <th>text</th>\n",
       "      <th>created_at</th>\n",
       "      <th>user</th>\n",
       "      <th>likes</th>\n",
       "      <th>retweets</th>\n",
       "      <th>links</th>\n",
       "    </tr>\n",
       "  </thead>\n",
       "  <tbody>\n",
       "    <tr>\n",
       "      <th>0</th>\n",
       "      <td>Wanted: Suspects for Robbery in the 22nd Distr...</td>\n",
       "      <td>2022-11-23 18:43:20+00:00</td>\n",
       "      <td>PhillyPolice</td>\n",
       "      <td>1</td>\n",
       "      <td>6</td>\n",
       "      <td>https://t.co/ys2L7qty1Rhttps://t.co/VWyOgRMsYo</td>\n",
       "    </tr>\n",
       "    <tr>\n",
       "      <th>1</th>\n",
       "      <td>Wanted: Suspect for Residential Burglary in th...</td>\n",
       "      <td>2022-11-23 16:33:26+00:00</td>\n",
       "      <td>PhillyPolice</td>\n",
       "      <td>2</td>\n",
       "      <td>2</td>\n",
       "      <td>https://t.co/fMpPr9ASqWhttps://t.co/Bb5GYCOVPc</td>\n",
       "    </tr>\n",
       "    <tr>\n",
       "      <th>2</th>\n",
       "      <td>RT @PPDFrankVanore: @phillypolice has received...</td>\n",
       "      <td>2022-11-23 12:28:33+00:00</td>\n",
       "      <td>PhillyPolice</td>\n",
       "      <td>0</td>\n",
       "      <td>17</td>\n",
       "      <td></td>\n",
       "    </tr>\n",
       "    <tr>\n",
       "      <th>3</th>\n",
       "      <td>Wanted: Suspects for Multiple Commercial Burgl...</td>\n",
       "      <td>2022-11-23 12:03:19+00:00</td>\n",
       "      <td>PhillyPolice</td>\n",
       "      <td>7</td>\n",
       "      <td>3</td>\n",
       "      <td>https://t.co/upJXKbcg0chttps://t.co/XVn01wXcR0</td>\n",
       "    </tr>\n",
       "    <tr>\n",
       "      <th>4</th>\n",
       "      <td>Wanted: Suspects for Commercial Robbery in the...</td>\n",
       "      <td>2022-11-22 18:02:24+00:00</td>\n",
       "      <td>PhillyPolice</td>\n",
       "      <td>10</td>\n",
       "      <td>7</td>\n",
       "      <td>https://t.co/qniWYHb9iOhttps://t.co/iXMDL5QpCQ</td>\n",
       "    </tr>\n",
       "  </tbody>\n",
       "</table>\n",
       "</div>"
      ],
      "text/plain": [
       "                                                text  \\\n",
       "0  Wanted: Suspects for Robbery in the 22nd Distr...   \n",
       "1  Wanted: Suspect for Residential Burglary in th...   \n",
       "2  RT @PPDFrankVanore: @phillypolice has received...   \n",
       "3  Wanted: Suspects for Multiple Commercial Burgl...   \n",
       "4  Wanted: Suspects for Commercial Robbery in the...   \n",
       "\n",
       "                  created_at          user  likes  retweets  \\\n",
       "0  2022-11-23 18:43:20+00:00  PhillyPolice      1         6   \n",
       "1  2022-11-23 16:33:26+00:00  PhillyPolice      2         2   \n",
       "2  2022-11-23 12:28:33+00:00  PhillyPolice      0        17   \n",
       "3  2022-11-23 12:03:19+00:00  PhillyPolice      7         3   \n",
       "4  2022-11-22 18:02:24+00:00  PhillyPolice     10         7   \n",
       "\n",
       "                                            links  \n",
       "0  https://t.co/ys2L7qty1Rhttps://t.co/VWyOgRMsYo  \n",
       "1  https://t.co/fMpPr9ASqWhttps://t.co/Bb5GYCOVPc  \n",
       "2                                                  \n",
       "3  https://t.co/upJXKbcg0chttps://t.co/XVn01wXcR0  \n",
       "4  https://t.co/qniWYHb9iOhttps://t.co/iXMDL5QpCQ  "
      ]
     },
     "execution_count": 58,
     "metadata": {},
     "output_type": "execute_result"
    }
   ],
   "source": [
    "## using regex to extract the links from the tweets and store them in a new column in the csv file\n",
    "\n",
    "import re\n",
    "\n",
    "def extract_url(text):\n",
    "    regex = r\"https?://[A-Za-z0-9./]+\"\n",
    "    url = re.findall(regex, text)\n",
    "    return \"\".join(url)\n",
    "\n",
    "df[\"links\"] = df[\"text\"].apply(lambda x: extract_url(x))\n",
    "\n",
    "df.head()"
   ]
  },
  {
   "cell_type": "code",
   "execution_count": 60,
   "metadata": {},
   "outputs": [
    {
     "name": "stderr",
     "output_type": "stream",
     "text": [
      "/var/folders/fj/r2kb_f4d3k1gxmcwsdc81_1r0000gn/T/ipykernel_24507/1398789223.py:1: FutureWarning: The default value of regex will change from True to False in a future version.\n",
      "  df[\"text\"] = df[\"text\"].str.replace(r\"https?://[A-Za-z0-9./]+\", \"\", case = False)\n"
     ]
    }
   ],
   "source": [
    "df[\"text\"] = df[\"text\"].str.replace(r\"https?://[A-Za-z0-9./]+\", \"\", case = False)"
   ]
  },
  {
   "cell_type": "code",
   "execution_count": null,
   "metadata": {},
   "outputs": [],
   "source": []
  }
 ],
 "metadata": {
  "kernelspec": {
   "display_name": "Python 3.10.7 64-bit",
   "language": "python",
   "name": "python3"
  },
  "language_info": {
   "codemirror_mode": {
    "name": "ipython",
    "version": 3
   },
   "file_extension": ".py",
   "mimetype": "text/x-python",
   "name": "python",
   "nbconvert_exporter": "python",
   "pygments_lexer": "ipython3",
   "version": "3.10.7"
  },
  "orig_nbformat": 4,
  "vscode": {
   "interpreter": {
    "hash": "b0fa6594d8f4cbf19f97940f81e996739fb7646882a419484c72d19e05852a7e"
   }
  }
 },
 "nbformat": 4,
 "nbformat_minor": 2
}
