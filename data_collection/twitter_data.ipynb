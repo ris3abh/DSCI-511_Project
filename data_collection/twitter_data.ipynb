{
 "cells": [
  {
   "cell_type": "code",
   "execution_count": 1,
   "metadata": {},
   "outputs": [
    {
     "name": "stdout",
     "output_type": "stream",
     "text": [
      "Collecting python-dotenv\n",
      "  Downloading python_dotenv-0.21.0-py3-none-any.whl (18 kB)\n",
      "Installing collected packages: python-dotenv\n",
      "Successfully installed python-dotenv-0.21.0\n"
     ]
    }
   ],
   "source": [
    "!pip3 install python-dotenv"
   ]
  },
  {
   "cell_type": "code",
   "execution_count": 3,
   "metadata": {},
   "outputs": [],
   "source": [
    "API_KEY = \"Y0pnmdQD0DSyrByEKLaqcvT9q\"\n",
    "API_KEY_SECRET = \"R0mHqd23VVVpR7wLMDANpVC2sN82AmCWgr9EMOpxmt8wivu8PQ\"\n",
    "\n",
    "ACCESS_TOKEN = \"1594441674767314944-sE6MQnn2CGaGsfhEYZm11NdjX28to5\"\n",
    "ACCESS_TOKEN_SECRET = \"jKIWtbKfjeKya6ZEJqPnNMHY0LKK4QNSUhLQVyycC3jkr\"\n",
    "\n",
    "BEARER_TOKEN = \"AAAAAAAAAAAAAAAAAAAAANQyjgEAAAAAhtUPBYUOxrs6v0uD4XYcy%2Bs%2BO1I%3DAT8d6DhX6ukMucgVTdGBq0EfGRKbPmtP7DYIFZ9Zac5ukMCu1p\""
   ]
  },
  {
   "cell_type": "code",
   "execution_count": 4,
   "metadata": {},
   "outputs": [],
   "source": [
    "import os\n",
    "import tweepy\n",
    "from dotenv import load_dotenv\n",
    "\n",
    "consumer_key = API_KEY\n",
    "consumer_secret = API_KEY_SECRET\n",
    "access_token = ACCESS_TOKEN\n",
    "access_token_secret = ACCESS_TOKEN_SECRET\n",
    "\n",
    "auth = tweepy.OAuth1UserHandler(\n",
    "  consumer_key, \n",
    "  consumer_secret, \n",
    "  access_token, \n",
    "  access_token_secret\n",
    ")\n",
    "\n",
    "api = tweepy.API(auth)"
   ]
  },
  {
   "cell_type": "code",
   "execution_count": 5,
   "metadata": {},
   "outputs": [],
   "source": [
    "me = api.verify_credentials()"
   ]
  },
  {
   "cell_type": "code",
   "execution_count": 6,
   "metadata": {},
   "outputs": [
    {
     "data": {
      "text/plain": [
       "User(_api=<tweepy.api.API object at 0x10a6ebeb0>, _json={'id': 1594441674767314944, 'id_str': '1594441674767314944', 'name': 'rishabh sharma', 'screen_name': 'rishabh43808923', 'location': '', 'description': '', 'url': None, 'entities': {'description': {'urls': []}}, 'protected': False, 'followers_count': 0, 'friends_count': 1, 'listed_count': 0, 'created_at': 'Sun Nov 20 21:24:57 +0000 2022', 'favourites_count': 0, 'utc_offset': None, 'time_zone': None, 'geo_enabled': False, 'verified': False, 'statuses_count': 0, 'lang': None, 'contributors_enabled': False, 'is_translator': False, 'is_translation_enabled': False, 'profile_background_color': 'F5F8FA', 'profile_background_image_url': None, 'profile_background_image_url_https': None, 'profile_background_tile': False, 'profile_image_url': 'http://abs.twimg.com/sticky/default_profile_images/default_profile_normal.png', 'profile_image_url_https': 'https://abs.twimg.com/sticky/default_profile_images/default_profile_normal.png', 'profile_link_color': '1DA1F2', 'profile_sidebar_border_color': 'C0DEED', 'profile_sidebar_fill_color': 'DDEEF6', 'profile_text_color': '333333', 'profile_use_background_image': True, 'has_extended_profile': True, 'default_profile': True, 'default_profile_image': True, 'following': False, 'follow_request_sent': False, 'notifications': False, 'translator_type': 'none', 'withheld_in_countries': [], 'suspended': False, 'needs_phone_verification': False}, id=1594441674767314944, id_str='1594441674767314944', name='rishabh sharma', screen_name='rishabh43808923', location='', description='', url=None, entities={'description': {'urls': []}}, protected=False, followers_count=0, friends_count=1, listed_count=0, created_at=datetime.datetime(2022, 11, 20, 21, 24, 57, tzinfo=datetime.timezone.utc), favourites_count=0, utc_offset=None, time_zone=None, geo_enabled=False, verified=False, statuses_count=0, lang=None, contributors_enabled=False, is_translator=False, is_translation_enabled=False, profile_background_color='F5F8FA', profile_background_image_url=None, profile_background_image_url_https=None, profile_background_tile=False, profile_image_url='http://abs.twimg.com/sticky/default_profile_images/default_profile_normal.png', profile_image_url_https='https://abs.twimg.com/sticky/default_profile_images/default_profile_normal.png', profile_link_color='1DA1F2', profile_sidebar_border_color='C0DEED', profile_sidebar_fill_color='DDEEF6', profile_text_color='333333', profile_use_background_image=True, has_extended_profile=True, default_profile=True, default_profile_image=True, following=False, follow_request_sent=False, notifications=False, translator_type='none', withheld_in_countries=[], suspended=False, needs_phone_verification=False)"
      ]
     },
     "execution_count": 6,
     "metadata": {},
     "output_type": "execute_result"
    }
   ],
   "source": [
    "me"
   ]
  },
  {
   "cell_type": "code",
   "execution_count": 17,
   "metadata": {},
   "outputs": [
    {
     "name": "stdout",
     "output_type": "stream",
     "text": [
      "WATCH: Two armed robbers walk past ‘Now Hiring’ sign in Little Caesars Pizza,Island &amp; Passyunk Avenues, Point gun at person earning honest living&amp;steal cash.  @PhillyPolice⁩ say they only got about $200, about what they’d make in a day working there. ⁦@FOX29philly⁩ https://t.co/1yb5sJB1l2\n",
      "=====\n",
      "⁦@PhillyPolice⁩ ⁦@PHLCouncil⁩ ⁦@PhillyMayor⁩ ⁦@DPearsonPHL⁩ ⁦@PhillyOTIS⁩ vision zero at work amirite? ⁦@PhillyInquirer⁩  https://t.co/idQVVRiNKU\n",
      "=====\n",
      "From @PhillyPolice BOOKING PHOTO of 22 year old Frederick Falcon, of Northeast Philadelphia, being charged with Murder 3rd Degree, Involuntary Manslaughter, Homicide By Vehicle &amp; more for “intentionally running over” 24 year old man Sunday after fight in Union Tap @FOX29philly https://t.co/9Ya4HSnjV7\n",
      "=====\n",
      "BREAKING UPDATE:  In the @TempleUniv students just off campus home invasion robberies @phillypolice have charges approved for 23 year old man for two of the three recent home invasions.  He is now in custody.  Indentity, charges, etc to be made public ASAP.  @FOX29philly https://t.co/LUkQbMQLsS\n",
      "=====\n",
      "WATCH: Two armed robbers walk past ‘Now Hiring’ sign in Little Caesars Pizza,Island &amp; Passyunk Avenues, Point gun at person earning honest living&amp;steal cash.  @PhillyPolice⁩ say they only got about $200, about what they’d make in a day working there. ⁦@FOX29philly⁩ https://t.co/1yb5sJB1l2\n",
      "=====\n",
      "2/2 Johnson ALSO charged with terroristic threats, simple assault, recklessly endangering another person, criminal trespass &amp; more.  Lots of charges for 2 of 3 @TempleUniv student apt home invasions this month. @PhillyPolice arrested him on Royal St 7:40pm @FOX29philly https://t.co/mL5mrr5NyD\n",
      "=====\n",
      "BREAKING UPDATE:  In the @TempleUniv students just off campus home invasion robberies @phillypolice have charges approved for 23 year old man for two of the three recent home invasions.  He is now in custody.  Indentity, charges, etc to be made public ASAP.  @FOX29philly https://t.co/LUkQbMQLsS\n",
      "=====\n",
      "#BREAKING: @PhillyPolice tell me 4 Overbrook HS students were shot outside a beauty shop at Oxford and 60th streets. Police say their injuries are non-life-threatening @FOX29philly https://t.co/TErp5V1zRf\n",
      "=====\n",
      "WATCH: Two guys in two West Philadelphia burglaries. @phillypolice video shows them drop down from big hole they cut in roof of Wine &amp; Spirits store.   Then they use shopping carts going through the aisles picking out Hennessy, Jose Cuervo, Amsterdam Gin &amp; Brandy @fox29philly https://t.co/d5b5Xwktkb\n",
      "=====\n",
      "@KellyRuleTV @FOX29philly @PhillyPolice Citizens app said it’s not related to the School.\n",
      "=====\n",
      "#BREAKING: @PhillyPolice tell me 4 Overbrook HS students were shot outside a beauty shop at Oxford and 60th streets. Police say their injuries are non-life-threatening @FOX29philly https://t.co/TErp5V1zRf\n",
      "=====\n",
      "WATCH: Two guys in two West Philadelphia burglaries. @phillypolice video shows them drop down from big hole they cut in roof of Wine &amp; Spirits store.   Then they use shopping carts going through the aisles picking out Hennessy, Jose Cuervo, Amsterdam Gin &amp; Brandy @fox29philly https://t.co/d5b5Xwktkb\n",
      "=====\n",
      "WATCH: Two armed robbers walk past ‘Now Hiring’ sign in Little Caesars Pizza,Island &amp; Passyunk Avenues, Point gun at person earning honest living&amp;steal cash.  @PhillyPolice⁩ say they only got about $200, about what they’d make in a day working there. ⁦@FOX29philly⁩ https://t.co/1yb5sJB1l2\n",
      "=====\n"
     ]
    }
   ],
   "source": [
    "tweets = api.search_tweets(\"@PhillyPolice\", tweet_mode=\"extended\")\n",
    "\n",
    "for tweet in tweets:\n",
    "    try:\n",
    "        print(tweet.retweeted_status.full_text)\n",
    "        print(\"=====\")\n",
    "    \n",
    "    except AttributeError:\n",
    "        print(tweet.full_text)\n",
    "        print(\"=====\")"
   ]
  },
  {
   "cell_type": "code",
   "execution_count": 19,
   "metadata": {},
   "outputs": [],
   "source": [
    "## extract all tweets from @PhillyPolice between the dates january 1 2022 and todays date and store them in a csv file\n",
    "\n",
    "import csv\n",
    "import tweepy\n",
    "from dotenv import load_dotenv\n",
    "\n",
    "consumer_key = API_KEY\n",
    "consumer_secret = API_KEY_SECRET\n",
    "access_token = ACCESS_TOKEN\n",
    "access_token_secret = ACCESS_TOKEN_SECRET\n",
    "\n",
    "auth = tweepy.OAuth1UserHandler(\n",
    "    consumer_key,\n",
    "    consumer_secret,\n",
    "    access_token,\n",
    "    access_token_secret\n",
    ")\n",
    "\n",
    "api = tweepy.API(auth)\n",
    "\n",
    "tweets = api.search_tweets(\"@PhillyPolice\", tweet_mode=\"extended\")\n",
    "\n",
    "with open(\"tweets.csv\", \"w\") as f:\n",
    "    writer = csv.writer(f)\n",
    "    writer.writerow([\"id\", \"created_at\", \"text\", \"user\", \"user_location\"])\n",
    "    \n",
    "    for tweet in tweets:\n",
    "        try:\n",
    "            writer.writerow([tweet.id, tweet.created_at, tweet.retweeted_status.full_text, tweet.user.screen_name, tweet.user.location])\n",
    "        except AttributeError:\n",
    "            writer.writerow([tweet.id, tweet.created_at, tweet.full_text, tweet.user.screen_name, tweet.user.location])"
   ]
  }
 ],
 "metadata": {
  "kernelspec": {
   "display_name": "Python 3.10.7 64-bit",
   "language": "python",
   "name": "python3"
  },
  "language_info": {
   "codemirror_mode": {
    "name": "ipython",
    "version": 3
   },
   "file_extension": ".py",
   "mimetype": "text/x-python",
   "name": "python",
   "nbconvert_exporter": "python",
   "pygments_lexer": "ipython3",
   "version": "3.10.7"
  },
  "orig_nbformat": 4,
  "vscode": {
   "interpreter": {
    "hash": "b0fa6594d8f4cbf19f97940f81e996739fb7646882a419484c72d19e05852a7e"
   }
  }
 },
 "nbformat": 4,
 "nbformat_minor": 2
}
